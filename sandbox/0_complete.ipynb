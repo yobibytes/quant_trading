{
 "cells": [
  {
   "cell_type": "code",
   "execution_count": 1,
   "metadata": {},
   "outputs": [],
   "source": [
    "# set env via .env file\n",
    "import sys\n",
    "import os\n",
    "import pandas as pd\n",
    "import datetime\n",
    "import time\n",
    "import munch\n",
    "import shared\n",
    "import config\n",
    "import model\n",
    "import provider_yfinance as provider\n"
   ]
  },
  {
   "cell_type": "code",
   "execution_count": 2,
   "metadata": {},
   "outputs": [
    {
     "name": "stdout",
     "output_type": "stream",
     "text": [
      "init> initialize environment\n",
      "TF version: 2.1.0\n",
      "Keras version: 2.2.4-tf\n",
      "Executing op RandomUniform in device /job:localhost/replica:0/task:0/device:CPU:0\n",
      "Executing op Sub in device /job:localhost/replica:0/task:0/device:CPU:0\n",
      "Executing op Mul in device /job:localhost/replica:0/task:0/device:CPU:0\n",
      "Executing op Add in device /job:localhost/replica:0/task:0/device:CPU:0\n",
      "WARNING:tensorflow:From /mnt/d/notebooks/sandbox/config.py:24: is_gpu_available (from tensorflow.python.framework.test_util) is deprecated and will be removed in a future version.\n",
      "Instructions for updating:\n",
      "Use `tf.config.list_physical_devices('GPU')` instead.\n",
      "Is there a GPU available: False\n",
      "Is the Tensor on GPU #0: False\n",
      "Device name: /job:localhost/replica:0/task:0/device:CPU:0\n",
      "Eager Execution enabled: True\n"
     ]
    }
   ],
   "source": [
    "print('init> initialize environment')\n",
    "config.print_env()"
   ]
  },
  {
   "cell_type": "code",
   "execution_count": 3,
   "metadata": {},
   "outputs": [
    {
     "name": "stdout",
     "output_type": "stream",
     "text": [
      "config> current directory:/mnt/d/notebooks/sandbox\n",
      "config> data period: from '2018-03-26' to '2020-02-24'\n",
      "config> download period: from '2018-01-08' to '2020-02-24'\n",
      "shared> parsing stocks from web '^GDAXI' ...\n",
      "config> benchmarks: '['000001.SS', 'AUDUSD=X', 'BTCUSD=X', 'CNY=X', 'ETHUSD=X', 'EURCAD=X', 'EURCHF=X', 'EURGBP=X', 'EURHUF=X', 'EURJPY=X', 'EURJPY=X', 'EURSEK=X', 'EURUSD=X', 'GBPJPY=X', 'GBPUSD=X', 'GC=F', 'HKD=X', 'IDR=X', 'IMOEX.ME', 'INR=X', 'JPY=X', 'KW=F', 'LC=F', 'LH=F', 'MXN=X', 'MYR=X', 'NZDUSD=X', 'PA=F', 'PHP=X', 'PL=F', 'RUB=X', 'S=F', 'SGD=X', 'SI=F', 'SM=F', 'THB=X', 'ZAR=X', '^AORD', '^AXJO', '^BFX', '^BSESN', '^BUK100P', '^BVSP', '^DJI', '^FCHI', '^FTSE', '^GDAXI', '^GSPC', '^GSPTSE', '^HSI', '^IPSA', '^IXIC', '^JKSE', '^JN0U.JO', '^KLSE', '^KS11', '^MERV', '^MXX', '^N100', '^N225', '^NYA', '^NZ50', '^RUT', '^STI', '^STOXX50E', '^TA125.TA', '^TWII', '^VIX', '^XAX']'\n",
      "config> stocks: '['1COV.DE', 'ADS.DE', 'ALV.DE', 'BAS.DE', 'BAYN.DE', 'BEI.DE', 'BMW.DE', 'CON.DE', 'DAI.DE', 'DB1.DE', 'DBK.DE', 'DPW.DE', 'DTE.DE', 'EOAN.DE', 'FME.DE', 'FRE.DE', 'HEI.DE', 'HEN3.DE', 'IFX.DE', 'LHA.DE', 'LIN.DE', 'MRK.DE', 'MUV2.DE', 'RWE.DE', 'SAP.DE', 'SIE.DE', 'TKA.DE', 'VNA.DE', 'VOW3.DE', 'WDI.DE']'\n",
      "config> saved config to '/mnt/d/notebooks/sandbox/config.json'\n",
      "config> created from .env\n",
      "config> config\n",
      "        - base:\n",
      "            - config_file_path: /mnt/d/notebooks/sandbox/config.json\n",
      "        - datasets:\n",
      "            - stocks: 30\n",
      "            - benchmarks: 69\n",
      "        - prepare:\n",
      "            - data_start_dt: 2018-03-26\n",
      "            - data_end_dt: 2020-02-24\n",
      "            - cache_dir: /mnt/d/notebooks/sandbox/cache/20200224/\n",
      "        - train:            \n",
      "            - window_trading_days: [3, 5, 21, 35, 50]\n",
      "            - lag_trading_days: [1, 2, 3, 4, 5]\n",
      "            - label_max_high_weight: 3.0\n",
      "            - label_max_close_weight: 1.0\n",
      "            - settings: 5\n",
      "        - model:\n",
      "            - max_samples: 40\n",
      "            - batch_size: 32\n",
      "            - learning_rate: 0.1\n",
      "            - learning_rate_decay: 0.75\n",
      "            - lstm_hidden_size: 256\n",
      "            - early_stopping_patience: 10\n",
      "            - validation_monitor: val_mean_squared_error\n",
      "            - max_epochs: 1000\n",
      "            - base_dir: /mnt/d/notebooks/sandbox/model/20200224/\n",
      "            - model_templates_dir: /mnt/d/notebooks/sandbox/model/20200107\n",
      "        \n",
      "config> saved config to '/mnt/d/notebooks/sandbox/config.json'\n"
     ]
    }
   ],
   "source": [
    "cfg = config.get_config('^GDAXI', True)\n",
    "# recalc specific date\n",
    "# config.overwrite_end_dt(cfg, '2020-02-03')\n",
    "config.save_config(cfg)"
   ]
  },
  {
   "cell_type": "code",
   "execution_count": null,
   "metadata": {},
   "outputs": [
    {
     "name": "stdout",
     "output_type": "stream",
     "text": [
      "download> start downloading data 2020-02-24 ...\n",
      "shared> failed to load pickle file: '/mnt/d/notebooks/sandbox/cache/20200224/stocks_1d.pkl'\n",
      "shared> failed to load pickle file: '/mnt/d/notebooks/sandbox/cache/20200224/stocks_1d_meta.pkl'\n",
      "tickers-stocks> downloading histories ...\n",
      "[*********************100%***********************]  30 of 30 completed\n",
      "WARN: tickers-stocks> #missing: 34675\n",
      "ticker-1COV.DE> loading ticker data ...\n",
      "ticker-ADS.DE> loading ticker data ...\n",
      "ticker-ALV.DE> loading ticker data ...\n",
      "ticker-BAS.DE> loading ticker data ...\n",
      "ticker-BAYN.DE> loading ticker data ...\n",
      "ticker-BEI.DE> loading ticker data ...\n",
      "WARN: ticker-BEI.DE> #missing: 10\n",
      "ticker-BMW.DE> loading ticker data ...\n",
      "ticker-CON.DE> loading ticker data ...\n",
      "yf-cashflowStatementHistory> internal error: Internal Server Error\n",
      "yf-cashflowStatementHistoryQuarterly> internal error: Internal Server Error\n",
      "yf-balanceSheetHistory> internal error: Internal Server Error\n",
      "yf-balanceSheetHistoryQuarterly> internal error: Internal Server Error\n",
      "yf-incomeStatementHistory> internal error: Internal Server Error\n",
      "yf-incomeStatementHistoryQuarterly> internal error: Internal Server Error\n",
      "yf-earnings> internal error: Internal Server Error\n",
      "ticker-DAI.DE> loading ticker data ...\n",
      "ticker-DB1.DE> loading ticker data ...\n",
      "ticker-DBK.DE> loading ticker data ...\n",
      "WARN: ticker-DBK.DE> #missing: 5\n",
      "ticker-DPW.DE> loading ticker data ...\n",
      "ticker-DTE.DE> loading ticker data ...\n",
      "ticker-EOAN.DE> loading ticker data ...\n",
      "WARN: ticker-EOAN.DE> #missing: 95\n",
      "ticker-FME.DE> loading ticker data ...\n",
      "ticker-FRE.DE> loading ticker data ...\n",
      "ticker-HEI.DE> loading ticker data ...\n",
      "ticker-HEN3.DE> loading ticker data ...\n",
      "ticker-IFX.DE> loading ticker data ...\n",
      "ticker-LHA.DE> loading ticker data ...\n",
      "ticker-LIN.DE> loading ticker data ...\n",
      "ticker-MRK.DE> loading ticker data ...\n",
      "WARN: ticker-MRK.DE> #missing: 5\n",
      "ticker-MUV2.DE> loading ticker data ...\n",
      "ticker-RWE.DE> loading ticker data ...\n",
      "ticker-SAP.DE> loading ticker data ...\n",
      "ticker-SIE.DE> loading ticker data ...\n",
      "ticker-TKA.DE> loading ticker data ...\n",
      "WARN: ticker-TKA.DE> #missing: 5\n",
      "ticker-VNA.DE> loading ticker data ...\n",
      "ticker-VOW3.DE> loading ticker data ...\n",
      "ticker-WDI.DE> loading ticker data ...\n",
      "WARN: ticker-WDI.DE> #missing: 45\n",
      "shared> failed to load pickle file: '/mnt/d/notebooks/sandbox/cache/20200224/benchmarks_1d.pkl'\n",
      "shared> failed to load pickle file: '/mnt/d/notebooks/sandbox/cache/20200224/benchmarks_1d_meta.pkl'\n",
      "tickers-benchmarks> downloading histories ...\n",
      "[*********************100%***********************]  68 of 68 completed\n",
      "WARN: tickers-benchmarks> #missing: 190435\n",
      "ticker-000001.SS> loading ticker data ...\n",
      "ticker-AUDUSD=X> loading ticker data ...\n",
      "ticker-BTCUSD=X> loading ticker data ...\n",
      "ticker-CNY=X> loading ticker data ...\n",
      "ticker-ETHUSD=X> loading ticker data ...\n",
      "ticker-EURCAD=X> loading ticker data ...\n",
      "ticker-EURCHF=X> loading ticker data ...\n",
      "ticker-EURGBP=X> loading ticker data ...\n",
      "ticker-EURHUF=X> loading ticker data ...\n",
      "ERROR: yf> failed to download ticker data\n",
      "WARN: ticker-EURHUF=X> retrying loading ticker data ... (#1 of True)\n",
      "ticker-EURJPY=X> loading ticker data ...\n",
      "ticker-EURJPY=X> loading ticker data ...\n",
      "ticker-EURSEK=X> loading ticker data ...\n",
      "ticker-EURUSD=X> loading ticker data ...\n",
      "ticker-GBPJPY=X> loading ticker data ...\n",
      "ticker-GBPUSD=X> loading ticker data ...\n",
      "ticker-GC=F> loading ticker data ...\n",
      "ticker-HKD=X> loading ticker data ...\n"
     ]
    }
   ],
   "source": [
    "%%time\n",
    "# total: 1h\n",
    "# compact: 5m\n",
    "\n",
    "start_ts = time.time()\n",
    "print(f'download> start downloading data {cfg.prepare.data_end_dt} ...')\n",
    "\n",
    "cfg_stocks, data_stocks = provider.load_stocks(cfg, compact=True)\n",
    "cfg_benchmarks, data_benchmarks = provider.load_benchmarks(cfg, compact=True)\n",
    "\n",
    "print(f'download> download finished, duration: {time.time() - start_ts:.2f} s')"
   ]
  },
  {
   "cell_type": "code",
   "execution_count": null,
   "metadata": {},
   "outputs": [],
   "source": [
    "%%time \n",
    "# 5 s\n",
    "\n",
    "start_ts = time.time()\n",
    "print(f'prepare> preparing stock and benchmark data ...')\n",
    "\n",
    "cfg_stocks, data_stocks = provider.load_stocks(cfg)\n",
    "cfg_benchmarks, data_benchmarks = provider.load_benchmarks(cfg)\n",
    "\n",
    "prep_stocks = provider.prepare_stocks(cfg, data_stocks)\n",
    "prep_benchmarks = provider.prepare_benchmarks(cfg, data_benchmarks)\n",
    "\n",
    "enc_stocks = provider.encode_stocks(cfg, prep_stocks)\n",
    "enc_benchmarks = provider.encode_benchmarks(cfg, prep_benchmarks, prep_stocks)"
   ]
  },
  {
   "cell_type": "code",
   "execution_count": null,
   "metadata": {},
   "outputs": [],
   "source": [
    "%%time \n",
    "# total: 20min - 50min\n",
    "# compact: 20min\n",
    "\n",
    "print(f'prepare> preparing submodel data ...')\n",
    "for submodel_settings in cfg.train.settings:\n",
    "    print(f\"sm-{submodel_settings.id}> preparing submodel data ...\")\n",
    "    model_data = provider.prepare_submodel_data(cfg, submodel_settings, enc_stocks, enc_benchmarks)\n",
    "    # update num_features setting (informational)\n",
    "    submodel_settings.num_features = len(model_data.X[0][0][0][0])\n",
    "config.save_config(cfg)"
   ]
  },
  {
   "cell_type": "code",
   "execution_count": null,
   "metadata": {},
   "outputs": [],
   "source": [
    "duration = time.time() - start_ts\n",
    "print(f'prepare> preparation finished, duration: {duration:.2f} s')"
   ]
  },
  {
   "cell_type": "code",
   "execution_count": null,
   "metadata": {},
   "outputs": [],
   "source": [
    "%%time\n",
    "\n",
    "start_ts = time.time()\n",
    "print(f'train> training started ...')\n",
    "\n",
    "print('train> list all submodule settings')\n",
    "[(i, s.id) for i, s in enumerate(cfg.train.settings)]\n",
    "\n",
    "model.train_full(cfg, start_settings_idx=0)\n",
    "\n",
    "duration = time.time() - start_ts\n",
    "print(f'train> training finished, duration: {duration:.2f} s')"
   ]
  },
  {
   "cell_type": "code",
   "execution_count": null,
   "metadata": {},
   "outputs": [],
   "source": [
    "\n",
    "all_subdirs = [os.path.join('/mnt/d/notebooks/sandbox/model/', d) for d in os.listdir('/mnt/d/notebooks/sandbox/model/') if os.path.isdir(os.path.join('/mnt/d/notebooks/sandbox/model/', d)) and not d.startswith('.')]\n",
    "latest_subdir = max(all_subdirs, key=os.path.getmtime)\n",
    "latest_subdir"
   ]
  },
  {
   "cell_type": "code",
   "execution_count": null,
   "metadata": {},
   "outputs": [],
   "source": [
    "%%time\n",
    "\n",
    "start_ts = time.time()\n",
    "print(f'predict> prediction started ...')\n",
    "\n",
    "predictions = model.predict(cfg)\n",
    "\n",
    "duration = time.time() - start_ts\n",
    "print(f'predict> prediction finished, duration: {duration:.2f} s')"
   ]
  },
  {
   "cell_type": "code",
   "execution_count": null,
   "metadata": {},
   "outputs": [],
   "source": [
    "os.listdir('/mnt/d/notebooks/sandbox/model/')"
   ]
  },
  {
   "cell_type": "code",
   "execution_count": null,
   "metadata": {},
   "outputs": [],
   "source": []
  }
 ],
 "metadata": {
  "kernelspec": {
   "display_name": "Python 3",
   "language": "python",
   "name": "python3"
  },
  "language_info": {
   "codemirror_mode": {
    "name": "ipython",
    "version": 3
   },
   "file_extension": ".py",
   "mimetype": "text/x-python",
   "name": "python",
   "nbconvert_exporter": "python",
   "pygments_lexer": "ipython3",
   "version": "3.7.4"
  }
 },
 "nbformat": 4,
 "nbformat_minor": 4
}
