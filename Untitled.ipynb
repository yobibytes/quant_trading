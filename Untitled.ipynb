{
 "cells": [
  {
   "cell_type": "code",
   "execution_count": 3,
   "metadata": {},
   "outputs": [
    {
     "name": "stderr",
     "output_type": "stream",
     "text": [
      "/usr/lib/python3/dist-packages/urllib3/connectionpool.py:860: InsecureRequestWarning: Unverified HTTPS request is being made. Adding certificate verification is strongly advised. See: https://urllib3.readthedocs.io/en/latest/advanced-usage.html#ssl-warnings\n",
      "  InsecureRequestWarning)\n"
     ]
    }
   ],
   "source": [
    "import requests\n",
    "\n",
    "cookies = {\n",
    "    '_rdfa': 's%3A890f2107-5b5b-4adc-bce5-94e2f3225767.O0z4h3CtQMuti4wV10AB0tow1V%2Bg1nUGRNIWjAs7uso',\n",
    "    'cookie-consent': '1',\n",
    "    'marketsCookie': '%7B%22online%22%3A%7B%22wwIdent%22%3A%22565236%22%2C%22marketZipCode%22%3A%2268307%22%2C%22serviceTypes%22%3A%5B%22PICKUP%22%5D%2C%22customerZipCode%22%3A%2268167%22%2C%22currentOnlineFunnel%22%3A%22PICKUP%22%7D%2C%22stationary%22%3A%7B%7D%7D',\n",
    "    '__cfduid': 'd4db8d9f4ac6a2d9e16e85a11b8596ffd1585686235',\n",
    "    'MRefererUrl': 'direct',\n",
    "    '__cfruid': 'c9a36fefc8c82d1d0672af2d93e72ed635321033-1585755507',\n",
    "    'AMCVS_65BE20B35350E8DE0A490D45%40AdobeOrg': '1',\n",
    "    'icVarSave': 'TC%2050%20Control%2Clam01-home-control%2CTC%2053%20Treatment',\n",
    "    '__cf_bm': '990c3ee0ab9d99ef3170b0c4d02e4a1b1e62adf9-1585817683-1800-AUhFZA+//K1yQc4Ec9c73uQ3c8EGDAMfu6qdcyvOXYYYeO1E4o+EqDf+wIHs5dkzkmfP36Y3Lwxt+MDvuE/grvU=',\n",
    "    'myReweCookie': '%7B%22customerZip%22%3A%2268167%22%2C%22customerLocation%22%3A%2249.496222558440046%2C8.492858301906487%22%2C%22deliveryMarketId%22%3A%22320516%22%2C%22serviceType%22%3A%22PICKUP%22%2C%22customerName%22%3A%22Ke%20Zhang%22%2C%22welcomeMessage%22%3A%22Willkommen%20zur%C3%BCck%2C%20Herr%20Zhang%22%2C%22pickupMarketId%22%3A%22565236%22%7D',\n",
    "    'mtc': 's%3AIIqk3ki8z2lWRrcf1uepD%2FZIVy8iYzA0NS1ZL1RldUMwa1BlbmtQWW9VbHlFZ0pYZ2t4SjQiKMAD3AbwBfoG8Ab4BZ4C2gb8BpAHugvmBdgGpAekBvwFmAfSBpIGhgQAAA%3D%3D.8bVAWDpJo%2B%2FTTfa0SlKnJzu%2Fjo6Pgfb%2FQmpwvtkFdIk',\n",
    "    'rstp': 'eyJhbGciOiJIUzUxMiIsInR5cCI6IkpXVCJ9.eyJhZXMxOTIiOiJhMDdmMWY2OTc5OTVjM2I1OGMxMDU5NjQ5MGZlYjY4NjE3MWM4MTBhMWQ3NjlhNjIwZDQ4OTNkYmUxMzgyNWU4MmJjYzA0MmY3NTg1ZGE5MzZhZmZkMWUwNDIxMWNjNDk0NGQ3NGIxNTI1YWE2NzQ1Y2I4ZDUyMmI5YzcwZWU3MTlmZDNhNmFhMDdmZDZlOGRmMTlhZmNmYTZlOTY2OTY2N2NkM2YwNjViYjc2NDMxYWYzYWRiNDQzYTJlYWZkNGM5M2FmN2EyNjRhZWEzZDcwODc3MGI4MWI0Y2ZiOGNlNmFmY2QzYmQ3N2M0ZDUzMzc1MTlhN2JjMTZiODZmNWNkOTI3YzRiMmEyM2E4ZGEzNTc2NTcxYTE3YWE1NGFhMzg1NTY5NjQ1NjZmNmE0MjczMmQ4OTk4NjViMjFjZmZjYTAwYTllMWIwYWM2NzkzMTE0Mjk2ZjdmYjY5ODgzNDM5NjY3OGYxNzU3NmNhMWE5NzMxMjk4ZTA5ZTNlNzBhNzMyMmI5Zjg0YzgzZTJiOWE0MTg0OGRhMDAwOGUyNzExMDBkNTdhNTgxOGEyMTg4YzM3ZDYzNjQ2YjVjZjYyNGNiOTg5MjNkNjc2YjJmZTM0YjU1MjM2Yzg2MTBlY2NiMDlmZmYxNWVmZWM5MzZkMjQwZmE0YTE2ZjhhMzQxNzE2ZTQxZDYyODA0OGQxYWE1ZTFmY2U4MjBlZTJlNTNlODJjZWIzYjYwMzZkNmJiZWMzZmU1MjFmYTIwMDRjMGYwNTZkNDc5YTVmOTVmNDY5MDVhYWViZTg2ZDU0NTNmZmU3ZTUzMDllYzg0ZmNiNzM4NzEwMzYzNGYwYTExNjE2MzBjIiwiaWF0IjoxNTg1ODE3Nzk3LCJleHAiOjE1ODU4MTgzOTd9.jqED6vMNSn4yT0ScscX3JnTXBqo9MJZRUcAh5Vppvx3goSFYkrkS3eyPWX14-m1ymwoLu1mgV5Vb05NJRmUasA',\n",
    "    'AMCV_65BE20B35350E8DE0A490D45%40AdobeOrg': '-432600572%7CMCIDTS%7C18355%7CMCMID%7C79231562054114303133658969209658702620%7CMCAID%7CNONE%7CMCOPTOUT-1585824998s%7CNONE%7CvVersion%7C4.5.2',\n",
    "    'c_lpv_a': '1585817799014|int_internal_nn_nn_nn_nn_nn_nn_nn',\n",
    "}\n",
    "\n",
    "headers = {\n",
    "    'authority': 'shop.rewe.de',\n",
    "    'upgrade-insecure-requests': '1',\n",
    "    'user-agent': 'Mozilla/5.0 (Windows NT 10.0; Win64; x64) AppleWebKit/537.36 (KHTML, like Gecko) Chrome/79.0.3945.130 Safari/537.36',\n",
    "    'accept': 'text/html,application/xhtml+xml,application/xml;q=0.9,image/webp,image/apng,*/*;q=0.8,application/signed-exchange;v=b3;q=0.9',\n",
    "    'sec-fetch-site': 'same-origin',\n",
    "    'sec-fetch-mode': 'nested-navigate',\n",
    "    'referer': 'https://shop.rewe.de/',\n",
    "    'accept-encoding': 'gzip, deflate, br',\n",
    "    'accept-language': 'en-US,en;q=0.9,de;q=0.8,de-DE;q=0.7,zh-CN;q=0.6,zh;q=0.5,zh-TW;q=0.4',\n",
    "}\n",
    "\n",
    "params = (\n",
    "    ('serviceTypes', 'PICKUP'),\n",
    ")\n",
    "\n",
    "response = requests.get('https://shop.rewe.de/market/timeslots', headers=headers, params=params, cookies=cookies, verify=False)\n",
    "\n",
    "#NB. Original query string below. It seems impossible to parse and\n",
    "#reproduce query strings 100% accurately so the one below is given\n",
    "#in case the reproduced version is not \"correct\".\n",
    "# response = requests.get('https://shop.rewe.de/market/timeslots?serviceTypes=PICKUP', headers=headers, cookies=cookies)\n"
   ]
  },
  {
   "cell_type": "code",
   "execution_count": 4,
   "metadata": {},
   "outputs": [
    {
     "data": {
      "text/plain": [
       "<Response [403]>"
      ]
     },
     "execution_count": 4,
     "metadata": {},
     "output_type": "execute_result"
    }
   ],
   "source": [
    "response"
   ]
  },
  {
   "cell_type": "code",
   "execution_count": null,
   "metadata": {},
   "outputs": [],
   "source": []
  }
 ],
 "metadata": {
  "kernelspec": {
   "display_name": "Python 3",
   "language": "python",
   "name": "python3"
  },
  "language_info": {
   "codemirror_mode": {
    "name": "ipython",
    "version": 3
   },
   "file_extension": ".py",
   "mimetype": "text/x-python",
   "name": "python",
   "nbconvert_exporter": "python",
   "pygments_lexer": "ipython3",
   "version": "3.7.4"
  }
 },
 "nbformat": 4,
 "nbformat_minor": 2
}
